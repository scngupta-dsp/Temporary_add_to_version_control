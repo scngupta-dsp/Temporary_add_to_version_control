{
  "nbformat": 4,
  "nbformat_minor": 0,
  "metadata": {
    "colab": {
      "provenance": [],
      "toc_visible": true,
      "authorship_tag": "ABX9TyPvliBnWwUnrgpxMxAgdjm+",
      "include_colab_link": true
    },
    "kernelspec": {
      "name": "python3",
      "display_name": "Python 3"
    },
    "language_info": {
      "name": "python"
    }
  },
  "cells": [
    {
      "cell_type": "markdown",
      "metadata": {
        "id": "view-in-github",
        "colab_type": "text"
      },
      "source": [
        "<a href=\"https://colab.research.google.com/github/scngupta-dsp/Temporary_add_to_version_control/blob/main/Skill_Challenge_1.ipynb\" target=\"_parent\"><img src=\"https://colab.research.google.com/assets/colab-badge.svg\" alt=\"Open In Colab\"/></a>"
      ]
    },
    {
      "cell_type": "code",
      "execution_count": 1,
      "metadata": {
        "id": "dZP5Pn6lBnp1"
      },
      "outputs": [],
      "source": [
        "# Skill Challenge #1\n",
        "#################\n",
        "## CHALLENGE 1 ##\n",
        "#################\n",
        "\n",
        "# Requirements\n",
        "# - Define a Student class with 2 instance attributes (name, age) and 1 class attribute (educational_platform = udemy);\n",
        "# - Make it so that instances of Student could be created by simply specifying the name. Hint: set the default age to a number\n",
        "# - Define a greet() method which alternates between various name greetings. When invoked, the method should randomly select\n",
        "# a greeting and interpolate in the name of the student\n",
        "#        - Hi, I'm...\n",
        "#        - Hey there, my name is...\n",
        "#        - Hi. Oh, my name is...\n",
        "# - Starting with a list of several student names, create student instances from each, and have each student introduce themselves\n",
        "\n",
        "# Example Usage\n",
        "# s1 = Student(\"Alice\")\n",
        "# s1.greet()\n",
        "# \"Hi, I'm Alice\"\n",
        "\n",
        "# for i in range(4):\n",
        "#     print(s1.greet())\n",
        "\n",
        "# Hey there, my name is Alice\n",
        "# Hey there, my name is Alice\n",
        "# Hi, I'm Alice\n",
        "# Hi. Oh, my name is Alice\n",
        "\n",
        "# s1.age\n",
        "# 34\n"
      ]
    },
    {
      "cell_type": "code",
      "source": [
        "import random"
      ],
      "metadata": {
        "id": "SegZ7TdnCgiw"
      },
      "execution_count": 2,
      "outputs": []
    },
    {
      "cell_type": "code",
      "source": [
        "class Student():\n",
        "  educational_platform = 'udemy'\n",
        "\n",
        "  def __init__(self, name, age=None):\n",
        "    self.name = name\n",
        "    self.age = age\n",
        "\n",
        "  def greet(self):\n",
        "    random_response = random.randint(0,2)\n",
        "    if random_response == 0:\n",
        "      print(f\"Hi, I'm {self.name}\")\n",
        "    elif random_response == 1:\n",
        "      print(f\"Hey there, my name is {self.name}\")\n",
        "    elif random_response == 2:\n",
        "      print(f\"Hi, Oh, my name is {self.name}\")\n",
        "    else:\n",
        "      print(f\"{random_response}\")\n",
        "\n",
        "\n"
      ],
      "metadata": {
        "id": "OJBZ8NJsBseY"
      },
      "execution_count": 16,
      "outputs": []
    },
    {
      "cell_type": "code",
      "source": [
        "s1 = Student(\"Alice\")\n",
        "for i in range(10):\n",
        "  s1.greet()"
      ],
      "metadata": {
        "colab": {
          "base_uri": "https://localhost:8080/"
        },
        "id": "EfMDjn36GA_u",
        "outputId": "5dd87f80-56ea-4f7a-a6ae-0a944b9ccc17"
      },
      "execution_count": 18,
      "outputs": [
        {
          "output_type": "stream",
          "name": "stdout",
          "text": [
            "Hi, I'm Alice\n",
            "Hey there, my name is Alice\n",
            "Hi, Oh, my name is Alice\n",
            "Hi, I'm Alice\n",
            "Hey there, my name is Alice\n",
            "Hi, I'm Alice\n",
            "Hi, Oh, my name is Alice\n",
            "Hey there, my name is Alice\n",
            "Hi, I'm Alice\n",
            "Hi, I'm Alice\n"
          ]
        }
      ]
    },
    {
      "cell_type": "markdown",
      "source": [
        "# New Section"
      ],
      "metadata": {
        "id": "A6OQPSaJHPhn"
      }
    }
  ]
}